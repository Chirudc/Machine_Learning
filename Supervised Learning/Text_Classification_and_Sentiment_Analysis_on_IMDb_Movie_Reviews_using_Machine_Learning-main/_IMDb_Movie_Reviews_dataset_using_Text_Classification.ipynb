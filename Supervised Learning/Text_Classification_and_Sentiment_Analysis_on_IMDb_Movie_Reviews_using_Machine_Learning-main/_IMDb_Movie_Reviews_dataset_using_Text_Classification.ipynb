{
 "cells": [
  {
   "cell_type": "markdown",
   "id": "bde0f433",
   "metadata": {},
   "source": [
    "# Text Classification"
   ]
  },
  {
   "cell_type": "markdown",
   "id": "84b4b8b9",
   "metadata": {},
   "source": [
    "## Executive Summary\n",
    "\n",
    "I performed binary sentiment analysis on the IMDb Movie Reviews dataset using multiple classification models. The text data was first prepared by converting the sentiment labels ('positive' and 'negative') into binary values (1 and 0). TF-IDF vectorization was applied to convert the raw reviews into numerical features, with stop words removed to reduce noise. \n",
    "\n",
    "I trained and evaluated five models: Linear SVC, Logistic Regression, Naive Bayes, Decision Tree, and K-Nearest Neighbors (KNN). Each model was assessed using accuracy, precision, recall, F1-score, and execution time. The performance results were visualized using bar plots and line plots, allowing for clear comparison across models. Linear SVC had the best overall performance in terms of both accuracy and F1-score, closely followed by Logistic Regression. Naive Bayes was also fast and performed well, while Decision Tree and KNN were slower and less accurate. Based on these results, Linear SVC is recommended for this task. \n",
    "\n",
    "Future improvements could include hyperparameter tuning, ensemble methods, and more advanced feature engineering."
   ]
  },
  {
   "cell_type": "code",
   "execution_count": 1,
   "id": "7570789d",
   "metadata": {},
   "outputs": [],
   "source": [
    "# Imported required libraries\n",
    "from sklearn.model_selection import train_test_split\n",
    "from sklearn.feature_extraction.text import TfidfVectorizer\n",
    "from sklearn.naive_bayes import MultinomialNB\n",
    "from sklearn.svm import LinearSVC\n",
    "from sklearn.linear_model import LogisticRegression\n",
    "from sklearn.tree import DecisionTreeClassifier\n",
    "from sklearn.neighbors import KNeighborsClassifier\n",
    "import pandas as pd\n",
    "import numpy as np\n",
    "import re\n",
    "import string\n",
    "import time\n",
    "import seaborn as sns\n",
    "import matplotlib.pyplot as plt\n",
    "from sklearn.metrics import accuracy_score, precision_score, recall_score, f1_score"
   ]
  },
  {
   "cell_type": "code",
   "execution_count": 2,
   "id": "379e59cd",
   "metadata": {},
   "outputs": [
    {
     "data": {
      "text/html": [
       "<div>\n",
       "<style scoped>\n",
       "    .dataframe tbody tr th:only-of-type {\n",
       "        vertical-align: middle;\n",
       "    }\n",
       "\n",
       "    .dataframe tbody tr th {\n",
       "        vertical-align: top;\n",
       "    }\n",
       "\n",
       "    .dataframe thead th {\n",
       "        text-align: right;\n",
       "    }\n",
       "</style>\n",
       "<table border=\"1\" class=\"dataframe\">\n",
       "  <thead>\n",
       "    <tr style=\"text-align: right;\">\n",
       "      <th></th>\n",
       "      <th>review</th>\n",
       "      <th>sentiment</th>\n",
       "    </tr>\n",
       "  </thead>\n",
       "  <tbody>\n",
       "    <tr>\n",
       "      <th>0</th>\n",
       "      <td>One of the other reviewers has mentioned that ...</td>\n",
       "      <td>positive</td>\n",
       "    </tr>\n",
       "    <tr>\n",
       "      <th>1</th>\n",
       "      <td>A wonderful little production. &lt;br /&gt;&lt;br /&gt;The...</td>\n",
       "      <td>positive</td>\n",
       "    </tr>\n",
       "    <tr>\n",
       "      <th>2</th>\n",
       "      <td>I thought this was a wonderful way to spend ti...</td>\n",
       "      <td>positive</td>\n",
       "    </tr>\n",
       "    <tr>\n",
       "      <th>3</th>\n",
       "      <td>Basically there's a family where a little boy ...</td>\n",
       "      <td>negative</td>\n",
       "    </tr>\n",
       "    <tr>\n",
       "      <th>4</th>\n",
       "      <td>Petter Mattei's \"Love in the Time of Money\" is...</td>\n",
       "      <td>positive</td>\n",
       "    </tr>\n",
       "    <tr>\n",
       "      <th>...</th>\n",
       "      <td>...</td>\n",
       "      <td>...</td>\n",
       "    </tr>\n",
       "    <tr>\n",
       "      <th>49995</th>\n",
       "      <td>I thought this movie did a down right good job...</td>\n",
       "      <td>positive</td>\n",
       "    </tr>\n",
       "    <tr>\n",
       "      <th>49996</th>\n",
       "      <td>Bad plot, bad dialogue, bad acting, idiotic di...</td>\n",
       "      <td>negative</td>\n",
       "    </tr>\n",
       "    <tr>\n",
       "      <th>49997</th>\n",
       "      <td>I am a Catholic taught in parochial elementary...</td>\n",
       "      <td>negative</td>\n",
       "    </tr>\n",
       "    <tr>\n",
       "      <th>49998</th>\n",
       "      <td>I'm going to have to disagree with the previou...</td>\n",
       "      <td>negative</td>\n",
       "    </tr>\n",
       "    <tr>\n",
       "      <th>49999</th>\n",
       "      <td>No one expects the Star Trek movies to be high...</td>\n",
       "      <td>negative</td>\n",
       "    </tr>\n",
       "  </tbody>\n",
       "</table>\n",
       "<p>50000 rows × 2 columns</p>\n",
       "</div>"
      ],
      "text/plain": [
       "                                                  review sentiment\n",
       "0      One of the other reviewers has mentioned that ...  positive\n",
       "1      A wonderful little production. <br /><br />The...  positive\n",
       "2      I thought this was a wonderful way to spend ti...  positive\n",
       "3      Basically there's a family where a little boy ...  negative\n",
       "4      Petter Mattei's \"Love in the Time of Money\" is...  positive\n",
       "...                                                  ...       ...\n",
       "49995  I thought this movie did a down right good job...  positive\n",
       "49996  Bad plot, bad dialogue, bad acting, idiotic di...  negative\n",
       "49997  I am a Catholic taught in parochial elementary...  negative\n",
       "49998  I'm going to have to disagree with the previou...  negative\n",
       "49999  No one expects the Star Trek movies to be high...  negative\n",
       "\n",
       "[50000 rows x 2 columns]"
      ]
     },
     "execution_count": 2,
     "metadata": {},
     "output_type": "execute_result"
    }
   ],
   "source": [
    "# It loads the dataset\n",
    "df_IMBD = pd.read_csv(r'C:\\Users\\dccan\\OneDrive\\Desktop\\Written\\Lab-3\\IMDB Dataset.csv')\n",
    "df_IMBD"
   ]
  },
  {
   "cell_type": "markdown",
   "id": "f66d6602",
   "metadata": {},
   "source": [
    "## Data Understanding Steps:"
   ]
  },
  {
   "cell_type": "code",
   "execution_count": 3,
   "id": "c3e5849b",
   "metadata": {},
   "outputs": [
    {
     "data": {
      "text/plain": [
       "Index(['review', 'sentiment'], dtype='object')"
      ]
     },
     "execution_count": 3,
     "metadata": {},
     "output_type": "execute_result"
    }
   ],
   "source": [
    "# It reprsents the number of columns presented in the data.\n",
    "df_IMBD.columns"
   ]
  },
  {
   "cell_type": "code",
   "execution_count": 4,
   "id": "94277217",
   "metadata": {},
   "outputs": [
    {
     "data": {
      "text/plain": [
       "(50000, 2)"
      ]
     },
     "execution_count": 4,
     "metadata": {},
     "output_type": "execute_result"
    }
   ],
   "source": [
    "df_IMBD.shape"
   ]
  },
  {
   "cell_type": "code",
   "execution_count": 5,
   "id": "ef09d3d5",
   "metadata": {},
   "outputs": [
    {
     "data": {
      "text/plain": [
       "review       object\n",
       "sentiment    object\n",
       "dtype: object"
      ]
     },
     "execution_count": 5,
     "metadata": {},
     "output_type": "execute_result"
    }
   ],
   "source": [
    "# It shows the data types of the DataFrame's columns.\n",
    "df_IMBD.dtypes"
   ]
  },
  {
   "cell_type": "code",
   "execution_count": 6,
   "id": "fac9b93a",
   "metadata": {},
   "outputs": [
    {
     "name": "stdout",
     "output_type": "stream",
     "text": [
      "<class 'pandas.core.frame.DataFrame'>\n",
      "RangeIndex: 50000 entries, 0 to 49999\n",
      "Data columns (total 2 columns):\n",
      " #   Column     Non-Null Count  Dtype \n",
      "---  ------     --------------  ----- \n",
      " 0   review     50000 non-null  object\n",
      " 1   sentiment  50000 non-null  object\n",
      "dtypes: object(2)\n",
      "memory usage: 781.4+ KB\n"
     ]
    }
   ],
   "source": [
    "# It shows the information of the DataFrame\n",
    "df_IMBD.info()"
   ]
  },
  {
   "cell_type": "code",
   "execution_count": 7,
   "id": "8181600e",
   "metadata": {},
   "outputs": [
    {
     "data": {
      "text/html": [
       "<div>\n",
       "<style scoped>\n",
       "    .dataframe tbody tr th:only-of-type {\n",
       "        vertical-align: middle;\n",
       "    }\n",
       "\n",
       "    .dataframe tbody tr th {\n",
       "        vertical-align: top;\n",
       "    }\n",
       "\n",
       "    .dataframe thead th {\n",
       "        text-align: right;\n",
       "    }\n",
       "</style>\n",
       "<table border=\"1\" class=\"dataframe\">\n",
       "  <thead>\n",
       "    <tr style=\"text-align: right;\">\n",
       "      <th></th>\n",
       "      <th>review</th>\n",
       "      <th>sentiment</th>\n",
       "    </tr>\n",
       "  </thead>\n",
       "  <tbody>\n",
       "    <tr>\n",
       "      <th>0</th>\n",
       "      <td>One of the other reviewers has mentioned that ...</td>\n",
       "      <td>positive</td>\n",
       "    </tr>\n",
       "    <tr>\n",
       "      <th>1</th>\n",
       "      <td>A wonderful little production. &lt;br /&gt;&lt;br /&gt;The...</td>\n",
       "      <td>positive</td>\n",
       "    </tr>\n",
       "    <tr>\n",
       "      <th>2</th>\n",
       "      <td>I thought this was a wonderful way to spend ti...</td>\n",
       "      <td>positive</td>\n",
       "    </tr>\n",
       "    <tr>\n",
       "      <th>3</th>\n",
       "      <td>Basically there's a family where a little boy ...</td>\n",
       "      <td>negative</td>\n",
       "    </tr>\n",
       "    <tr>\n",
       "      <th>4</th>\n",
       "      <td>Petter Mattei's \"Love in the Time of Money\" is...</td>\n",
       "      <td>positive</td>\n",
       "    </tr>\n",
       "  </tbody>\n",
       "</table>\n",
       "</div>"
      ],
      "text/plain": [
       "                                              review sentiment\n",
       "0  One of the other reviewers has mentioned that ...  positive\n",
       "1  A wonderful little production. <br /><br />The...  positive\n",
       "2  I thought this was a wonderful way to spend ti...  positive\n",
       "3  Basically there's a family where a little boy ...  negative\n",
       "4  Petter Mattei's \"Love in the Time of Money\" is...  positive"
      ]
     },
     "execution_count": 7,
     "metadata": {},
     "output_type": "execute_result"
    }
   ],
   "source": [
    "# It shows the initial five rows of the DataFrame for reviewing its structure and content.\n",
    "df_IMBD.head()"
   ]
  },
  {
   "cell_type": "code",
   "execution_count": 8,
   "id": "ef94873b",
   "metadata": {},
   "outputs": [
    {
     "data": {
      "text/html": [
       "<div>\n",
       "<style scoped>\n",
       "    .dataframe tbody tr th:only-of-type {\n",
       "        vertical-align: middle;\n",
       "    }\n",
       "\n",
       "    .dataframe tbody tr th {\n",
       "        vertical-align: top;\n",
       "    }\n",
       "\n",
       "    .dataframe thead th {\n",
       "        text-align: right;\n",
       "    }\n",
       "</style>\n",
       "<table border=\"1\" class=\"dataframe\">\n",
       "  <thead>\n",
       "    <tr style=\"text-align: right;\">\n",
       "      <th></th>\n",
       "      <th>review</th>\n",
       "      <th>sentiment</th>\n",
       "    </tr>\n",
       "  </thead>\n",
       "  <tbody>\n",
       "    <tr>\n",
       "      <th>49995</th>\n",
       "      <td>I thought this movie did a down right good job...</td>\n",
       "      <td>positive</td>\n",
       "    </tr>\n",
       "    <tr>\n",
       "      <th>49996</th>\n",
       "      <td>Bad plot, bad dialogue, bad acting, idiotic di...</td>\n",
       "      <td>negative</td>\n",
       "    </tr>\n",
       "    <tr>\n",
       "      <th>49997</th>\n",
       "      <td>I am a Catholic taught in parochial elementary...</td>\n",
       "      <td>negative</td>\n",
       "    </tr>\n",
       "    <tr>\n",
       "      <th>49998</th>\n",
       "      <td>I'm going to have to disagree with the previou...</td>\n",
       "      <td>negative</td>\n",
       "    </tr>\n",
       "    <tr>\n",
       "      <th>49999</th>\n",
       "      <td>No one expects the Star Trek movies to be high...</td>\n",
       "      <td>negative</td>\n",
       "    </tr>\n",
       "  </tbody>\n",
       "</table>\n",
       "</div>"
      ],
      "text/plain": [
       "                                                  review sentiment\n",
       "49995  I thought this movie did a down right good job...  positive\n",
       "49996  Bad plot, bad dialogue, bad acting, idiotic di...  negative\n",
       "49997  I am a Catholic taught in parochial elementary...  negative\n",
       "49998  I'm going to have to disagree with the previou...  negative\n",
       "49999  No one expects the Star Trek movies to be high...  negative"
      ]
     },
     "execution_count": 8,
     "metadata": {},
     "output_type": "execute_result"
    }
   ],
   "source": [
    "# It shows the final five rows of the DataFrame to review the end portion of the data.\n",
    "df_IMBD.tail()"
   ]
  },
  {
   "cell_type": "code",
   "execution_count": 9,
   "id": "3b24f3b4",
   "metadata": {},
   "outputs": [
    {
     "data": {
      "text/plain": [
       "review       0\n",
       "sentiment    0\n",
       "dtype: int64"
      ]
     },
     "execution_count": 9,
     "metadata": {},
     "output_type": "execute_result"
    }
   ],
   "source": [
    "# It shows any null values in the dataframe\n",
    "df_IMBD.isnull().sum()"
   ]
  },
  {
   "cell_type": "code",
   "execution_count": 10,
   "id": "c6df0efa",
   "metadata": {},
   "outputs": [
    {
     "data": {
      "image/png": "[encoded data removed]",
      "text/plain": [
       "<Figure size 640x480 with 1 Axes>"
      ]
     },
     "metadata": {},
     "output_type": "display_data"
    }
   ],
   "source": [
    "# Count the number of positive and negative reviews\n",
    "sns.countplot(x='sentiment', data=df_IMBD)\n",
    "\n",
    "# Set the title and labels\n",
    "plt.title('Distribution of Positive and Negative Reviews')\n",
    "plt.xlabel('Sentiment')\n",
    "plt.ylabel('Count')\n",
    "\n",
    "# Display the plot\n",
    "plt.show()"
   ]
  },
  {
   "cell_type": "markdown",
   "id": "974f4617",
   "metadata": {},
   "source": [
    "### Observation:\n",
    "    \n",
    "The above bar plot shows that the IMDb dataset has a nearly equal distribution of positive and negative reviews, with around 25,000 reviews in each category. This balanced distribution eliminates the need for techniques to handle class imbalance, such as oversampling or undersampling. As a result, the machine learning models can rely on metrics like accuracy without bias toward one class. This balance ensures that the models should perform fairly well for both positive and negative sentiment predictions."
   ]
  },
  {
   "cell_type": "code",
   "execution_count": 11,
   "id": "49e64e1c",
   "metadata": {},
   "outputs": [],
   "source": [
    "# Prepare features (X) and target (y)\n",
    "\n",
    "# Movie reviews (text data)\n",
    "X = df_IMBD['review'] \n",
    "\n",
    "# Sentiment labels converted to binary (positive=1, negative=0)\n",
    "y = df_IMBD['sentiment'].map({'positive': 1, 'negative': 0}) "
   ]
  },
  {
   "cell_type": "code",
   "execution_count": 12,
   "id": "9d26ebda",
   "metadata": {},
   "outputs": [
    {
     "name": "stdout",
     "output_type": "stream",
     "text": [
      "Training set: (35000,), Testing set: (15000,)\n"
     ]
    }
   ],
   "source": [
    "# Split the data into training and test sets (70% train, 30% test)\n",
    "X_train, X_test, y_train, y_test = train_test_split(X, y, test_size=0.3, random_state=42)\n",
    "\n",
    "# Print the shapes of the resulting training and testing sets\n",
    "print(f\"Training set: {X_train.shape}, Testing set: {X_test.shape}\")"
   ]
  },
  {
   "cell_type": "code",
   "execution_count": 13,
   "id": "218ea30c",
   "metadata": {},
   "outputs": [
    {
     "name": "stdout",
     "output_type": "stream",
     "text": [
      "TF-IDF Vectorized Training set: (35000, 87687), Testing set: (15000, 87687)\n"
     ]
    }
   ],
   "source": [
    "# Vectorize the text data using TfidfVectorizer, removing English stop words\n",
    "vectorizer = TfidfVectorizer(stop_words='english', max_df=0.7)\n",
    "\n",
    "# Fit and transform the training data, and transform the test data\n",
    "X_train_tfidf = vectorizer.fit_transform(X_train)\n",
    "X_test_tfidf = vectorizer.transform(X_test)\n",
    "\n",
    "# Print shapes of the transformed TF-IDF data\n",
    "print(f\"TF-IDF Vectorized Training set: {X_train_tfidf.shape}, Testing set: {X_test_tfidf.shape}\")"
   ]
  },
  {
   "cell_type": "markdown",
   "id": "2dc09722",
   "metadata": {},
   "source": [
    "### Observation:\n",
    "In the above ones, the movie reviews are extracted as features (X), and the sentiment labels are converted into binary values (y) where positive = 1 and negative = 0. The data is then split into training (70%) and testing (30%) sets, with 35,000 reviews for training and 15,000 for testing. TF-IDF vectorization is applied to convert the text data into numerical form, removing English stop words and ignoring terms that appear in more than 70% of documents. The transformed data results in 87,687 features, representing the unique terms across all reviews. Finally, the TF-IDF vectorized training and testing data shapes are printed to confirm the transformation."
   ]
  },
  {
   "cell_type": "code",
   "execution_count": 14,
   "id": "529a81f2",
   "metadata": {},
   "outputs": [
    {
     "name": "stdout",
     "output_type": "stream",
     "text": [
      "Naive Bayes: Accuracy=0.8630, Precision=0.8786, Recall=0.8461, F1-score=0.8621, Time=0.0528 seconds\n"
     ]
    }
   ],
   "source": [
    "# Initialize the Naive Bayes model\n",
    "nb_model = MultinomialNB()\n",
    "\n",
    "# Measure the execution time\n",
    "start_time = time.time()\n",
    "\n",
    "# Train the model\n",
    "nb_model.fit(X_train_tfidf, y_train)\n",
    "\n",
    "# Predict on test data\n",
    "y_pred_nb = nb_model.predict(X_test_tfidf)\n",
    "\n",
    "# Calculate evaluation metrics\n",
    "nb_accuracy = accuracy_score(y_test, y_pred_nb)\n",
    "nb_precision = precision_score(y_test, y_pred_nb)\n",
    "nb_recall = recall_score(y_test, y_pred_nb)\n",
    "nb_f1 = f1_score(y_test, y_pred_nb)\n",
    "\n",
    "nb_time = time.time() - start_time\n",
    "\n",
    "# Display results\n",
    "print(f\"Naive Bayes: Accuracy={nb_accuracy:.4f}, Precision={nb_precision:.4f}, Recall={nb_recall:.4f}, F1-score={nb_f1:.4f}, Time={nb_time:.4f} seconds\")"
   ]
  },
  {
   "cell_type": "markdown",
   "id": "a004fcfa",
   "metadata": {},
   "source": [
    "### Observation:\n",
    "In the above, the Multinomial Naive Bayes model is trained using the TF-IDF vectorized training data. The execution time is measured for both training and prediction on the test data. The model's performance is evaluated using accuracy, precision, recall, and F1-score, with results showing an accuracy of 86.3%, precision of 87.9%, recall of 84.6%, and an F1-score of 86.2%. The model is also notably fast, with an execution time of only 0.0528 seconds."
   ]
  },
  {
   "cell_type": "code",
   "execution_count": 15,
   "id": "5dcd6bef",
   "metadata": {},
   "outputs": [
    {
     "name": "stdout",
     "output_type": "stream",
     "text": [
      "Linear SVC: Accuracy=0.8945, Precision=0.8913, Recall=0.9013, F1-score=0.8963, Time=0.7638 seconds\n"
     ]
    }
   ],
   "source": [
    "# Linear SVC model\n",
    "svc = LinearSVC(dual=False)\n",
    "\n",
    "# Measure the execution time\n",
    "start_time = time.time()\n",
    "\n",
    "# Train the model\n",
    "svc.fit(X_train_tfidf, y_train)\n",
    "\n",
    "# Predict on test data\n",
    "y_pred_svc = svc.predict(X_test_tfidf)\n",
    "\n",
    "# Calculate evaluation metrics\n",
    "svc_accuracy = accuracy_score(y_test, y_pred_svc)\n",
    "svc_precision = precision_score(y_test, y_pred_svc)\n",
    "svc_recall = recall_score(y_test, y_pred_svc)\n",
    "svc_f1 = f1_score(y_test, y_pred_svc)\n",
    "\n",
    "svc_time = time.time() - start_time\n",
    "\n",
    "# Display results\n",
    "print(f\"Linear SVC: Accuracy={svc_accuracy:.4f}, Precision={svc_precision:.4f}, Recall={svc_recall:.4f}, F1-score={svc_f1:.4f}, Time={svc_time:.4f} seconds\")"
   ]
  },
  {
   "cell_type": "markdown",
   "id": "560855f0",
   "metadata": {},
   "source": [
    "### Observation:\n",
    "In the above, the Linear SVC model is trained on the TF-IDF vectorized training data. The model achieves an accuracy of 89.45%, precision of 89.13%, recall of 90.13%, and an F1-score of 89.63%. The execution time for training and testing is relatively fast at 0.7638 seconds. These results indicate that Linear SVC is highly effective for sentiment classification."
   ]
  },
  {
   "cell_type": "code",
   "execution_count": 16,
   "id": "f4541525",
   "metadata": {},
   "outputs": [
    {
     "name": "stdout",
     "output_type": "stream",
     "text": [
      "Logistic Regression: Accuracy=0.8931, Precision=0.8849, Recall=0.9067, F1-score=0.8957, Time=1.5117 seconds\n"
     ]
    }
   ],
   "source": [
    "# Logistic Regression model\n",
    "logreg = LogisticRegression()\n",
    "\n",
    "# Measure the execution time\n",
    "start_time = time.time()\n",
    "\n",
    "# Train the model\n",
    "logreg.fit(X_train_tfidf, y_train)\n",
    "\n",
    "# Predict on test data\n",
    "y_pred_logreg = logreg.predict(X_test_tfidf)\n",
    "\n",
    "# Calculate evaluation metrics\n",
    "logreg_accuracy = accuracy_score(y_test, y_pred_logreg)\n",
    "logreg_precision = precision_score(y_test, y_pred_logreg)\n",
    "logreg_recall = recall_score(y_test, y_pred_logreg)\n",
    "logreg_f1 = f1_score(y_test, y_pred_logreg)\n",
    "\n",
    "logreg_time = time.time() - start_time\n",
    "\n",
    "# Display results\n",
    "print(f\"Logistic Regression: Accuracy={logreg_accuracy:.4f}, Precision={logreg_precision:.4f}, Recall={logreg_recall:.4f}, F1-score={logreg_f1:.4f}, Time={logreg_time:.4f} seconds\")"
   ]
  },
  {
   "cell_type": "markdown",
   "id": "84c4c289",
   "metadata": {},
   "source": [
    "### Observation:\n",
    "In the above, the Logistic Regression model is trained using the TF-IDF vectorized data. The model achieves an accuracy of 89.31%, precision of 88.49%, recall of 90.67%, and an F1-score of 89.57%. The execution time is slightly longer at 1.5117seconds compared to other models. Overall, the model performs well, with strong metrics for sentiment classification."
   ]
  },
  {
   "cell_type": "code",
   "execution_count": 17,
   "id": "45360bc3",
   "metadata": {},
   "outputs": [
    {
     "name": "stdout",
     "output_type": "stream",
     "text": [
      "CART Decision Tree: Accuracy=0.7255, Precision=0.7329, Recall=0.7199, F1-score=0.7263, Time=111.2518 seconds\n"
     ]
    }
   ],
   "source": [
    "# CART Decision Tree model\n",
    "cart = DecisionTreeClassifier()\n",
    "\n",
    "# Measure the execution time\n",
    "start_time = time.time()\n",
    "\n",
    "# Train the model\n",
    "cart.fit(X_train_tfidf, y_train)\n",
    "\n",
    "# Predict on test data\n",
    "y_pred_cart = cart.predict(X_test_tfidf)\n",
    "\n",
    "# Calculate evaluation metrics\n",
    "cart_accuracy = accuracy_score(y_test, y_pred_cart)\n",
    "cart_precision = precision_score(y_test, y_pred_cart)\n",
    "cart_recall = recall_score(y_test, y_pred_cart)\n",
    "cart_f1 = f1_score(y_test, y_pred_cart)\n",
    "\n",
    "cart_time = time.time() - start_time\n",
    "\n",
    "# Display results\n",
    "print(f\"CART Decision Tree: Accuracy={cart_accuracy:.4f}, Precision={cart_precision:.4f}, Recall={cart_recall:.4f}, F1-score={cart_f1:.4f}, Time={cart_time:.4f} seconds\")"
   ]
  },
  {
   "cell_type": "markdown",
   "id": "05837464",
   "metadata": {},
   "source": [
    "### Observation:\n",
    "In the above, the CART Decision Tree model is trained using the TF-IDF vectorized data. It achieves an accuracy of 72.55%, precision of 73.30%, recall of 72%, and an F1-score of 72.63%. However, the model is relatively slow, with an execution time of 111.2518 seconds, making it less efficient compared to other models in terms of speed and accuracy."
   ]
  },
  {
   "cell_type": "code",
   "execution_count": 18,
   "id": "7bfd0fb6",
   "metadata": {},
   "outputs": [
    {
     "name": "stdout",
     "output_type": "stream",
     "text": [
      "KNN: Accuracy=0.7701, Precision=0.7630, Recall=0.7914, F1-score=0.7769, Time=376.0832 seconds\n"
     ]
    }
   ],
   "source": [
    "# K-Nearest Neighbors model\n",
    "knn = KNeighborsClassifier()\n",
    "\n",
    "# Measure the execution time\n",
    "start_time = time.time()\n",
    "\n",
    "# Train the model\n",
    "knn.fit(X_train_tfidf, y_train)\n",
    "\n",
    "# Predict on test data\n",
    "y_pred_knn = knn.predict(X_test_tfidf)\n",
    "\n",
    "# Calculate evaluation metrics\n",
    "knn_accuracy = accuracy_score(y_test, y_pred_knn)\n",
    "knn_precision = precision_score(y_test, y_pred_knn)\n",
    "knn_recall = recall_score(y_test, y_pred_knn)\n",
    "knn_f1 = f1_score(y_test, y_pred_knn)\n",
    "\n",
    "knn_time = time.time() - start_time\n",
    "\n",
    "# Display results\n",
    "print(f\"KNN: Accuracy={knn_accuracy:.4f}, Precision={knn_precision:.4f}, Recall={knn_recall:.4f}, F1-score={knn_f1:.4f}, Time={knn_time:.4f} seconds\")"
   ]
  },
  {
   "cell_type": "markdown",
   "id": "573a17c6",
   "metadata": {},
   "source": [
    "### Observation:\n",
    "In this step, the K-Nearest Neighbors (KNN) model is trained using the TF-IDF vectorized data. It achieves an accuracy of 77.01%, precision of 76.30%, recall of 79.14%, and an F1-score of 77.69%. However, the model is significantly slower, with an execution time of 376.83 seconds, making it the least efficient model in terms of speed while offering moderate performance in terms of accuracy and F1-score."
   ]
  },
  {
   "cell_type": "code",
   "execution_count": 19,
   "id": "4726238b",
   "metadata": {},
   "outputs": [
    {
     "name": "stdout",
     "output_type": "stream",
     "text": [
      "                 Model  Accuracy  Precision    Recall  F1-Score  \\\n",
      "0          Naive Bayes  0.863000   0.878626  0.846093  0.862053   \n",
      "1           Linear SVC  0.894467   0.891321  0.901305  0.896285   \n",
      "2  Logistic Regression  0.893133   0.884902  0.906707  0.895672   \n",
      "3        Decision Tree  0.725533   0.732895  0.719858  0.726318   \n",
      "4                  KNN  0.770067   0.762957  0.791409  0.776923   \n",
      "\n",
      "   Execution Time (s)  \n",
      "0            0.052839  \n",
      "1            0.763832  \n",
      "2            1.511706  \n",
      "3          111.251810  \n",
      "4          376.083170  \n"
     ]
    }
   ],
   "source": [
    "# Gather results for all models\n",
    "results = []\n",
    "\n",
    "# Naive Bayes\n",
    "results.append({\n",
    "    \"Model\": \"Naive Bayes\",\n",
    "    \"Accuracy\": nb_accuracy,\n",
    "    \"Precision\": nb_precision,\n",
    "    \"Recall\": nb_recall,\n",
    "    \"F1-Score\": nb_f1,\n",
    "    \"Execution Time (s)\": nb_time\n",
    "})\n",
    "\n",
    "# Linear SVC\n",
    "results.append({\n",
    "    \"Model\": \"Linear SVC\",\n",
    "    \"Accuracy\": svc_accuracy,\n",
    "    \"Precision\": svc_precision,\n",
    "    \"Recall\": svc_recall,\n",
    "    \"F1-Score\": svc_f1,\n",
    "    \"Execution Time (s)\": svc_time\n",
    "})\n",
    "\n",
    "# Logistic Regression\n",
    "results.append({\n",
    "    \"Model\": \"Logistic Regression\",\n",
    "    \"Accuracy\": logreg_accuracy,\n",
    "    \"Precision\": logreg_precision,\n",
    "    \"Recall\": logreg_recall,\n",
    "    \"F1-Score\": logreg_f1,\n",
    "    \"Execution Time (s)\": logreg_time\n",
    "})\n",
    "\n",
    "# CART Decision Tree\n",
    "results.append({\n",
    "    \"Model\": \"Decision Tree\",\n",
    "    \"Accuracy\": cart_accuracy,\n",
    "    \"Precision\": cart_precision,\n",
    "    \"Recall\": cart_recall,\n",
    "    \"F1-Score\": cart_f1,\n",
    "    \"Execution Time (s)\": cart_time\n",
    "})\n",
    "\n",
    "# K-Nearest Neighbors\n",
    "results.append({\n",
    "    \"Model\": \"KNN\",\n",
    "    \"Accuracy\": knn_accuracy,\n",
    "    \"Precision\": knn_precision,\n",
    "    \"Recall\": knn_recall,\n",
    "    \"F1-Score\": knn_f1,\n",
    "    \"Execution Time (s)\": knn_time\n",
    "})\n",
    "\n",
    "# Convert results to DataFrame\n",
    "results_df = pd.DataFrame(results)\n",
    "\n",
    "# Display the DataFrame\n",
    "print(results_df)"
   ]
  },
  {
   "cell_type": "markdown",
   "id": "2c0bca05",
   "metadata": {},
   "source": [
    "### Observation:\n",
    "The above table summarizes the performance of five classification models: Naive Bayes, Linear SVC, Logistic Regression, Decision Tree, and K-Nearest Neighbors (KNN). Linear SVC had the highest accuracy (89.45%) and F1-score (89.63%), making it the best overall performer. Naive Bayes was fast and achieved a solid accuracy of 86.3% with a very short execution time of 0.05 seconds. Logistic Regression closely followed with an accuracy of 89.31% and a slightly longer execution time of 1.51 seconds. Both Decision Tree and KNN performed significantly worse in terms of accuracy (72.55% and 77.01%, respectively) and had much longer execution times, especially KNN, which took 376.83 seconds to complete. Based on these metrics, Linear SVC stands out as the top choice for sentiment classification."
   ]
  },
  {
   "cell_type": "code",
   "execution_count": 20,
   "id": "35d15dff",
   "metadata": {},
   "outputs": [
    {
     "data": {
      "image/png": "[encoded data removed]",
      "text/plain": [
       "<Figure size 1000x600 with 1 Axes>"
      ]
     },
     "metadata": {},
     "output_type": "display_data"
    }
   ],
   "source": [
    "# Set up bar width and positions\n",
    "bar_width = 0.2\n",
    "index = np.arange(len(results_df['Model']))\n",
    "\n",
    "# Create a figure for the bar plot\n",
    "plt.figure(figsize=(10, 6))\n",
    "\n",
    "# Plot bars for each metric with darker colors\n",
    "plt.bar(index, results_df['Accuracy'], bar_width, label='Accuracy', color='#1f77b4') \n",
    "plt.bar(index + bar_width, results_df['Precision'], bar_width, label='Precision', color='#ff7f0e') \n",
    "plt.bar(index + 2 * bar_width, results_df['Recall'], bar_width, label='Recall', color='#2ca02c') \n",
    "plt.bar(index + 3 * bar_width, results_df['F1-Score'], bar_width, label='F1-Score', color='#d62728')  \n",
    "\n",
    "# Add labels, title, and custom x-axis tick labels\n",
    "plt.xlabel('Models')\n",
    "plt.ylabel('Scores')\n",
    "plt.title('Model Performance Comparison - Bar Plot with Dark Colors')\n",
    "\n",
    "# Labels to prevent overlap\n",
    "plt.xticks(index + 1.5 * bar_width, results_df['Model'])\n",
    "\n",
    "# Adjust the y-axis limit\n",
    "plt.ylim(0, 1)\n",
    "\n",
    "# Add a legend to the plot\n",
    "plt.legend()\n",
    "\n",
    "# Use tight layout to ensure labels are not cut off\n",
    "plt.tight_layout()\n",
    "\n",
    "# Display the plot\n",
    "plt.grid(True)\n",
    "plt.show()"
   ]
  },
  {
   "cell_type": "markdown",
   "id": "25c2cdf4",
   "metadata": {},
   "source": [
    "### Observation:\n",
    "This bar graph compares the performance of five models- Naive Bayes, Linear SVC, Logistic Regression, Decision Tree, and KNN-across four key metrics: accuracy, precision, recall, and F1-score. Both Linear SVC and Logistic Regression perform similarly and lead in all metrics, showing consistently high scores. Naive Bayes performs slightly lower but still remains competitive, especially in precision and F1-score. Decision Tree and KNN lag behind, with Decision Tree showing the weakest performance across all metrics. The graph highlights that Linear SVC and Logistic Regression are the most suitable models for this task, offering the best balance between all performance metrics."
   ]
  },
  {
   "cell_type": "markdown",
   "id": "1abdd525",
   "metadata": {},
   "source": [
    "### Recommendation:\n",
    "Based on the analysis, Linear SVC is recommended as the best model for sentiment classification due to its high accuracy (89.45%), F1-score (89.63%), and relatively fast execution time (0.77 seconds). Logistic Regression also performed well and could be a suitable alternative, with similar accuracy and F1-score. Naive Bayes offers a good trade-off between performance and speed, making it a solid option if execution time is a priority. Decision Tree and KNN should be avoided for this task, as they underperform in accuracy and require significantly longer processing times.\n",
    "\n",
    "### Improving Model Performance:\n",
    "To improve model performance, hyperparameter tuning (e.g., adjusting the regularization parameter for SVC or Logistic Regression) could optimize model accuracy further. Ensemble methods like Random Forest or Gradient Boosting could be explored to improve performance over individual models. Incorporating n-grams or advanced text representations like word embeddings (Word2Vec or GloVe) might capture more contextual information from the reviews. Lastly, applying cross-validation could help ensure the model generalizes well to unseen data by reducing overfitting."
   ]
  }
 ],
 "metadata": {
  "kernelspec": {
   "display_name": "Python 3 (ipykernel)",
   "language": "python",
   "name": "python3"
  },
  "language_info": {
   "codemirror_mode": {
    "name": "ipython",
    "version": 3
   },
   "file_extension": ".py",
   "mimetype": "text/x-python",
   "name": "python",
   "nbconvert_exporter": "python",
   "pygments_lexer": "ipython3",
   "version": "3.11.7"
  }
 },
 "nbformat": 4,
 "nbformat_minor": 5
}
